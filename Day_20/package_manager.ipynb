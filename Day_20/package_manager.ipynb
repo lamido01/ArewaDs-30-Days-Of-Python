{
 "cells": [
  {
   "cell_type": "markdown",
   "metadata": {},
   "source": [
    "### Q1"
   ]
  },
  {
   "cell_type": "code",
   "execution_count": null,
   "metadata": {},
   "outputs": [],
   "source": [
    "import requests\n",
    "from bs4 import BeautifulSoup\n",
    "from collections import Counter\n",
    "import re\n",
    "\n",
    "def find_most_frequent_words(url, top_n):\n",
    "    response = requests.get(url)\n",
    "    \n",
    "    if response.status_code == 200:\n",
    "        content = response.text\n",
    "        soup = BeautifulSoup(content, 'html.parser')\n",
    "        text = soup.get_text()\n",
    "\n",
    "        # Use regex to extract words\n",
    "        words = re.findall(r'\\b\\w+\\b', text.lower())\n",
    "\n",
    "        # Count the occurrences of each word\n",
    "        word_counts = Counter(words)\n",
    "\n",
    "        # Get the most frequent words\n",
    "        most_frequent_words = word_counts.most_common(top_n)\n",
    "\n",
    "        return most_frequent_words\n",
    "    else:\n",
    "        print(f\"Failed to retrieve content from the URL. Status code: {response.status_code}\")\n",
    "        return None\n",
    "\n",
    "# Example usage\n",
    "romeo_and_juliet_url = 'http://www.gutenberg.org/files/1112/1112.txt'\n",
    "top_frequent_words = find_most_frequent_words(romeo_and_juliet_url, 10)\n",
    "\n",
    "# Print the result\n",
    "if top_frequent_words:\n",
    "    print(\"10 Most Frequent Words in Romeo and Juliet:\")\n",
    "    print(top_frequent_words)\n"
   ]
  },
  {
   "cell_type": "markdown",
   "metadata": {},
   "source": [
    "### Q2"
   ]
  },
  {
   "cell_type": "code",
   "execution_count": null,
   "metadata": {},
   "outputs": [],
   "source": [
    "import re\n",
    "import requests\n",
    "from collections import Counter\n",
    "\n",
    "def get_text_from_url(url):\n",
    "    response = requests.get(url)\n",
    "    return response.text\n",
    "\n",
    "# URL for Romeo and Juliet\n",
    "romeo_and_juliet_url = 'http://www.gutenberg.org/files/1112/1112.txt'\n",
    "\n",
    "resp = requests.get(romeo_and_juliet_url)\n",
    "print(f'Status code for the romeo_and_juliet_url: {resp.status_code}')\n",
    "\n",
    "# Get text content from the URL\n",
    "romeo_and_juliet_text = get_text_from_url(romeo_and_juliet_url)\n",
    "\n",
    "# Cleaning the text by removing non-alphanumeric characters and converting to lowercase\n",
    "cleaned_text = re.sub(r'[^a-zA-Z\\s]', '', romeo_and_juliet_text).lower()\n",
    "\n",
    "# Use Counter to count word occurrences\n",
    "word_counts = Counter(cleaned_text.split())\n",
    "\n",
    "# Get the top 10 most frequent words\n",
    "top_words = word_counts.most_common(10)\n",
    "\n",
    "print(\"Top 10 most frequent words:\")\n",
    "for word, count in top_words:\n",
    "    print(f\"{word}: {count}\")\n"
   ]
  }
 ],
 "metadata": {
  "kernelspec": {
   "display_name": "datascience",
   "language": "python",
   "name": "python3"
  },
  "language_info": {
   "codemirror_mode": {
    "name": "ipython",
    "version": 3
   },
   "file_extension": ".py",
   "mimetype": "text/x-python",
   "name": "python",
   "nbconvert_exporter": "python",
   "pygments_lexer": "ipython3",
   "version": "3.7.12"
  }
 },
 "nbformat": 4,
 "nbformat_minor": 2
}
