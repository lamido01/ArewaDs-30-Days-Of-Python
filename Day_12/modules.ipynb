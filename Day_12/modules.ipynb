{
 "cells": [
  {
   "cell_type": "markdown",
   "metadata": {},
   "source": [
    "## Exercises: Level 1\n"
   ]
  },
  {
   "cell_type": "markdown",
   "metadata": {},
   "source": [
    "#### Q1\n",
    "\n"
   ]
  },
  {
   "cell_type": "code",
   "execution_count": null,
   "metadata": {},
   "outputs": [],
   "source": [
    "import random\n",
    "import string\n",
    "\n",
    "def generate_random_user_id():\n",
    "    \"\"\"\n",
    "    Generate a six-character random user ID containing digits and characters.\n",
    "    \"\"\"\n",
    "    # Generate a random six-character string\n",
    "    user_id = ''.join(random.choices(string.ascii_letters + string.digits, k=6))\n",
    "\n",
    "    return user_id\n",
    "\n",
    "# Test\n",
    "random_user_id = generate_random_user_id()\n",
    "print(\"Random User ID:\", random_user_id)\n"
   ]
  },
  {
   "cell_type": "markdown",
   "metadata": {},
   "source": [
    "### Q2"
   ]
  },
  {
   "cell_type": "code",
   "execution_count": null,
   "metadata": {},
   "outputs": [],
   "source": [
    "import random\n",
    "import string\n",
    "\n",
    "def user_id_gen_by_user():\n",
    "    # Get user input for the number of characters\n",
    "    num_characters = int(input(\"Enter the number of characters for each user ID: \"))\n",
    "    \n",
    "    # Get user input for the number of IDs to generate\n",
    "    num_ids = int(input(\"Enter the number of IDs to generate: \"))\n",
    "\n",
    "    # Check if inputs are valid\n",
    "    if num_characters <= 0 or num_ids <= 0:\n",
    "        print(\"Please enter valid positive integers.\")\n",
    "        return None\n",
    "\n",
    "    # Generate user IDs\n",
    "    user_ids = [''.join(random.choices(string.ascii_letters + string.digits, k=num_characters)) for _ in range(num_ids)]\n",
    "\n",
    "    return user_ids\n",
    "\n",
    "# Test\n",
    "generated_user_ids = user_id_gen_by_user()\n",
    "if generated_user_ids:\n",
    "    print(\"Generated User IDs:\")\n",
    "    print(*generated_user_ids, sep='\\n')\n",
    "\n"
   ]
  },
  {
   "cell_type": "markdown",
   "metadata": {},
   "source": [
    "### Q3  "
   ]
  },
  {
   "cell_type": "code",
   "execution_count": null,
   "metadata": {},
   "outputs": [],
   "source": [
    "import random\n",
    "\n",
    "def rgb_color_gen():\n",
    "    \"\"\"\n",
    "    Generate a random RGB color.\n",
    "    \"\"\"\n",
    "    red = random.randint(0, 255)\n",
    "    green = random.randint(0, 255)\n",
    "    blue = random.randint(0, 255)\n",
    "\n",
    "    return red, green, blue\n",
    "\n",
    "# Test\n",
    "random_color = rgb_color_gen()\n",
    "print(\"Random RGB Color:\", random_color)\n"
   ]
  },
  {
   "cell_type": "markdown",
   "metadata": {},
   "source": [
    "## Exercises: Level 2"
   ]
  },
  {
   "cell_type": "markdown",
   "metadata": {},
   "source": [
    "### Q1 \n"
   ]
  },
  {
   "cell_type": "code",
   "execution_count": null,
   "metadata": {},
   "outputs": [],
   "source": [
    "import random\n",
    "\n",
    "def list_of_hexa_colors(num_colors):\n",
    "    \"\"\"\n",
    "    Generate an array of hexadecimal colors.\n",
    "\n",
    "    Parameters:\n",
    "    - num_colors: Number of hexadecimal colors to generate.\n",
    "\n",
    "    Returns:\n",
    "    - List of hexadecimal colors.\n",
    "    \"\"\"\n",
    "    hex_colors = ['#' + ''.join(random.choices('0123456789ABCDEF', k=6)) for _ in range(num_colors)]\n",
    "    return hex_colors\n",
    "\n",
    "# Test\n",
    "num_colors_to_generate = 5\n",
    "hex_colors_list = list_of_hexa_colors(num_colors_to_generate)\n",
    "print(\"Generated Hexadecimal Colors:\", hex_colors_list)\n"
   ]
  },
  {
   "cell_type": "markdown",
   "metadata": {},
   "source": [
    "### Q2"
   ]
  },
  {
   "cell_type": "code",
   "execution_count": null,
   "metadata": {},
   "outputs": [],
   "source": [
    "import random\n",
    "\n",
    "def list_of_rgb_colors(num_colors):\n",
    "    \"\"\"\n",
    "    Generate an array of RGB colors.\n",
    "\n",
    "    Parameters:\n",
    "    - num_colors: Number of RGB colors to generate.\n",
    "\n",
    "    Returns:\n",
    "    - List of RGB colors as tuples.\n",
    "    \"\"\"\n",
    "    rgb_colors = [(random.randint(0, 255), random.randint(0, 255), random.randint(0, 255)) for _ in range(num_colors)]\n",
    "    return rgb_colors\n",
    "\n",
    "# Test\n",
    "num_colors_to_generate = 5\n",
    "rgb_colors_list = list_of_rgb_colors(num_colors_to_generate)\n",
    "print(\"Generated RGB Colors:\", rgb_colors_list)\n"
   ]
  },
  {
   "cell_type": "markdown",
   "metadata": {},
   "source": [
    "### Q3"
   ]
  },
  {
   "cell_type": "code",
   "execution_count": null,
   "metadata": {},
   "outputs": [],
   "source": [
    "import random\n",
    "\n",
    "def generate_colors(color_format, num_colors):\n",
    "    \"\"\"\n",
    "    Generate an array of colors in the specified format.\n",
    "\n",
    "    Parameters:\n",
    "    - color_format: 'hexa' for hexadecimal colors, 'rgb' for RGB colors.\n",
    "    - num_colors: Number of colors to generate.\n",
    "\n",
    "    Returns:\n",
    "    - List of colors.\n",
    "    \"\"\"\n",
    "    colors = []\n",
    "\n",
    "    if color_format == 'hexa':\n",
    "        colors = ['#' + ''.join(random.choices('0123456789ABCDEF', k=6)) for _ in range(num_colors)]\n",
    "    elif color_format == 'rgb':\n",
    "        colors = [f'rgb({random.randint(0, 255)}, {random.randint(0, 255)}, {random.randint(0, 255)})' for _ in range(num_colors)]\n",
    "    else:\n",
    "        print(\"Invalid color format. Please use 'hexa' or 'rgb'.\")\n",
    "    \n",
    "    return colors\n",
    "\n",
    "# Test\n",
    "hex_colors_3 = generate_colors('hexa', 3)\n",
    "print(\"Generated Hexadecimal Colors:\", hex_colors_3)\n",
    "\n",
    "hex_colors_1 = generate_colors('hexa', 1)\n",
    "print(\"Generated Hexadecimal Color:\", hex_colors_1)\n",
    "\n",
    "rgb_colors_3 = generate_colors('rgb', 3)\n",
    "print(\"Generated RGB Colors:\", rgb_colors_3)\n",
    "\n",
    "rgb_colors_1 = generate_colors('rgb', 1)\n",
    "print(\"Generated RGB Color:\", rgb_colors_1)\n"
   ]
  },
  {
   "cell_type": "markdown",
   "metadata": {},
   "source": [
    "## Exercises: Level 3\n"
   ]
  },
  {
   "cell_type": "markdown",
   "metadata": {},
   "source": [
    "### Q1"
   ]
  },
  {
   "cell_type": "code",
   "execution_count": null,
   "metadata": {},
   "outputs": [],
   "source": [
    "import random\n",
    "\n",
    "def shuffle_list(input_list):\n",
    "    \"\"\"\n",
    "    Shuffle the elements of a given list.\n",
    "\n",
    "    Parameters:\n",
    "    - input_list: List to be shuffled.\n",
    "\n",
    "    Returns:\n",
    "    - Shuffled list.\n",
    "    \"\"\"\n",
    "    shuffled_list = input_list.copy()\n",
    "    random.shuffle(shuffled_list)\n",
    "    return shuffled_list\n",
    "\n",
    "# Test\n",
    "original_list = [1, 2, 3, 4, 5]\n",
    "shuffled_result = shuffle_list(original_list)\n",
    "\n",
    "print(\"Original List:\", original_list)\n",
    "print(\"Shuffled List:\", shuffled_result)\n"
   ]
  },
  {
   "cell_type": "markdown",
   "metadata": {},
   "source": [
    "### q2"
   ]
  },
  {
   "cell_type": "code",
   "execution_count": null,
   "metadata": {},
   "outputs": [],
   "source": [
    "import random\n",
    "\n",
    "def seven_unique_random_numbers():\n",
    "    \"\"\"\n",
    "    Generate an array of seven unique random numbers in the range of 0-9.\n",
    "\n",
    "    Returns:\n",
    "    - List of seven unique random numbers.\n",
    "    \"\"\"\n",
    "    # Ensure unique random numbers by using a set\n",
    "    unique_numbers_set = set()\n",
    "\n",
    "    while len(unique_numbers_set) < 7:\n",
    "        unique_numbers_set.add(random.randint(0, 9))\n",
    "\n",
    "    # Convert the set to a list\n",
    "    unique_numbers_list = list(unique_numbers_set)\n",
    "\n",
    "    return unique_numbers_list\n",
    "\n",
    "# Test\n",
    "random_numbers = seven_unique_random_numbers()\n",
    "print(\"Seven Unique Random Numbers:\", random_numbers)\n"
   ]
  }
 ],
 "metadata": {
  "kernelspec": {
   "display_name": "datascience",
   "language": "python",
   "name": "python3"
  },
  "language_info": {
   "codemirror_mode": {
    "name": "ipython",
    "version": 3
   },
   "file_extension": ".py",
   "mimetype": "text/x-python",
   "name": "python",
   "nbconvert_exporter": "python",
   "pygments_lexer": "ipython3",
   "version": "3.7.12"
  }
 },
 "nbformat": 4,
 "nbformat_minor": 2
}
