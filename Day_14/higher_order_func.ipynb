{
 "cells": [
  {
   "cell_type": "markdown",
   "metadata": {},
   "source": [
    "### Exercises: Level 1"
   ]
  },
  {
   "cell_type": "markdown",
   "metadata": {},
   "source": [
    "#### Q1"
   ]
  },
  {
   "cell_type": "markdown",
   "metadata": {},
   "source": [
    "Map function:applies a specified function to all items in an input iterable (e.g., a list) and returns an iterator that produces the results.\n",
    "\n",
    "filter function: constructs an iterator from elements of an iterable for which a function returns True.\n",
    "\n",
    "Reduce Function: applies a rolling computation to sequential pairs of values in an iterable.\n"
   ]
  },
  {
   "cell_type": "markdown",
   "metadata": {},
   "source": [
    "#### Q2"
   ]
  },
  {
   "cell_type": "markdown",
   "metadata": {},
   "source": [
    "Higher-Order Function: Deals with functions that take or return functions.\n",
    "\n",
    "Closure: Involves a function that remembers values from its lexical scope even if the function is called outside that scope.\n",
    "Decorator: Is a function that modifies the behavior of another function, typically by wrapping it with additional functionality."
   ]
  },
  {
   "cell_type": "markdown",
   "metadata": {},
   "source": [
    "#### Q3"
   ]
  },
  {
   "cell_type": "code",
   "execution_count": 2,
   "metadata": {},
   "outputs": [
    {
     "name": "stdout",
     "output_type": "stream",
     "text": [
      "[1, 4, 9, 16, 25]\n"
     ]
    }
   ],
   "source": [
    "# Define a custom function\n",
    "def square(x):\n",
    "    return x ** 2\n",
    "\n",
    "# List of numbers\n",
    "numbers = [1, 2, 3, 4, 5]\n",
    "\n",
    "# Use the map function with the custom function\n",
    "squared_numbers = map(square, numbers)\n",
    "\n",
    "# Convert the result to a list\n",
    "result_list = list(squared_numbers)\n",
    "\n",
    "print(result_list)\n",
    "# Output: [1, 4, 9, 16, 25]\n"
   ]
  },
  {
   "cell_type": "markdown",
   "metadata": {},
   "source": [
    "#### Question 4,5 and 6 "
   ]
  },
  {
   "cell_type": "code",
   "execution_count": 3,
   "metadata": {},
   "outputs": [
    {
     "name": "stdout",
     "output_type": "stream",
     "text": [
      "Estonia\n",
      "Finland\n",
      "Sweden\n",
      "Denmark\n",
      "Norway\n",
      "Iceland\n",
      "Asabeneh\n",
      "Lidiya\n",
      "Ermias\n",
      "Abraham\n",
      "1\n",
      "2\n",
      "3\n",
      "4\n",
      "5\n",
      "6\n",
      "7\n",
      "8\n",
      "9\n",
      "10\n"
     ]
    }
   ],
   "source": [
    "countries = ['Estonia', 'Finland', 'Sweden', 'Denmark', 'Norway', 'Iceland']\n",
    "names = ['Asabeneh', 'Lidiya', 'Ermias', 'Abraham']\n",
    "numbers = [1, 2, 3, 4, 5, 6, 7, 8, 9, 10]\n",
    " \n",
    "for country in countries:\n",
    "      print(country)\n",
    "      \n",
    "for name in names:\n",
    "    print(name)\n",
    "for number in numbers:\n",
    "    print(number)"
   ]
  },
  {
   "cell_type": "markdown",
   "metadata": {},
   "source": [
    "### Exercises: Level 2\n"
   ]
  },
  {
   "cell_type": "code",
   "execution_count": 4,
   "metadata": {},
   "outputs": [
    {
     "name": "stdout",
     "output_type": "stream",
     "text": [
      "['ESTONIA', 'FINLAND', 'SWEDEN', 'DENMARK', 'NORWAY', 'ICELAND']\n",
      "[1, 4, 9, 16, 25, 36, 49, 64, 81, 100]\n",
      "['ASABENEH', 'LIDIYA', 'ERMIAS', 'ABRAHAM']\n",
      "['Estonia', 'Sweden', 'Denmark', 'Norway']\n",
      "['ASABENEH', 'LIDIYA', 'ERMIAS', 'ABRAHAM']\n",
      "['Estonia', 'Finland', 'Denmark', 'Iceland']\n",
      "['Finland', 'Sweden', 'Denmark', 'Norway', 'Iceland']\n",
      "220\n"
     ]
    }
   ],
   "source": [
    "countries = ['Estonia', 'Finland', 'Sweden', 'Denmark', 'Norway', 'Iceland']\n",
    "names = ['Asabeneh', 'Lidiya', 'Ermias', 'Abraham']\n",
    "numbers = [1, 2, 3, 4, 5, 6, 7, 8, 9, 10]\n",
    "\n",
    "# Q 1\n",
    "# Define a custom function\n",
    "def to_upper_case(country):\n",
    "    return country.upper()\n",
    "\n",
    "#  Use the map function with the custom function\n",
    "upper_case_countries = map(to_upper_case,countries)\n",
    "\n",
    "print(list(upper_case_countries))\n",
    "\n",
    "# Q2\n",
    "numbers = [1, 2, 3, 4, 5, 6, 7, 8, 9, 10]\n",
    "squared_numbers = list(map(lambda x: x ** 2, numbers))\n",
    "print(squared_numbers)\n",
    "\n",
    "# Q3\n",
    "names = ['Asabeneh', 'Lidiya', 'Ermias', 'Abraham']\n",
    "uppercase_names = list(map(str.upper, names))\n",
    "print(uppercase_names)\n",
    "\n",
    "# Q4\n",
    "filtered_countries_land = list(filter(lambda country: 'land' not in country.lower(), countries))\n",
    "print(filtered_countries_land)\n",
    "\n",
    "# Q5\n",
    "names = ['Asabeneh', 'Lidiya', 'Ermias', 'Abraham']\n",
    "uppercase_names = list(map(str.upper, names))\n",
    "print(uppercase_names)\n",
    "\n",
    "# Q6\n",
    "filtered_countries_six_chars = list(filter(lambda country: len(country) != 6, countries))\n",
    "print(filtered_countries_six_chars)\n",
    "\n",
    "# Q7\n",
    "filtered_countries_starting_with_e = list(filter(lambda country: not country.startswith('E'), countries))\n",
    "print(filtered_countries_starting_with_e)\n",
    " # Q8\n",
    "from functools import reduce\n",
    "\n",
    "# Example: Chain map, filter, and reduce\n",
    "result = reduce(lambda acc, x: acc + x, map(lambda x: x ** 2, filter(lambda x: x % 2 == 0, numbers)))\n",
    "print(result)\n",
    "\n",
    "\n",
    "\n"
   ]
  },
  {
   "cell_type": "markdown",
   "metadata": {},
   "source": [
    "### Q9"
   ]
  },
  {
   "cell_type": "code",
   "execution_count": 5,
   "metadata": {},
   "outputs": [
    {
     "name": "stdout",
     "output_type": "stream",
     "text": [
      "['apple', 'banana', 'cherry', 'date']\n"
     ]
    }
   ],
   "source": [
    "def get_string_lists(input_list):\n",
    "    return [x for x in input_list if type(x) == str]\n",
    "\n",
    "# Test the function\n",
    "mixed_list = [1, 'apple', 3.14, 'banana', 'cherry', 42, 'date']\n",
    "string_list = get_string_lists(mixed_list)\n",
    "\n",
    "print(string_list)\n"
   ]
  },
  {
   "cell_type": "markdown",
   "metadata": {},
   "source": [
    "### Q10"
   ]
  },
  {
   "cell_type": "code",
   "execution_count": 6,
   "metadata": {},
   "outputs": [
    {
     "name": "stdout",
     "output_type": "stream",
     "text": [
      "Sum of numbers: 55\n"
     ]
    }
   ],
   "source": [
    "from functools import reduce\n",
    "\n",
    "# List of numbers\n",
    "numbers = [1, 2, 3, 4, 5, 6, 7, 8, 9, 10]\n",
    "\n",
    "# Use reduce to sum all the numbers in the numbers list\n",
    "sum_result = reduce(lambda x, y: x + y, numbers)\n",
    "print(\"Sum of numbers:\", sum_result)"
   ]
  },
  {
   "cell_type": "markdown",
   "metadata": {},
   "source": [
    "### Q11"
   ]
  },
  {
   "cell_type": "code",
   "execution_count": 7,
   "metadata": {},
   "outputs": [
    {
     "name": "stdout",
     "output_type": "stream",
     "text": [
      "Estonia, Finland, Sweden, Denmark, Norway, Iceland are north European countries.\n"
     ]
    }
   ],
   "source": [
    "# List of countries\n",
    "countries = ['Estonia', 'Finland', 'Sweden', 'Denmark', 'Norway', 'Iceland']\n",
    "\n",
    "# Use reduce to concatenate all the countries and produce a sentence\n",
    "sentence_result = reduce(lambda x, y: x + ', ' + y, countries)\n",
    "print(sentence_result + ' are north European countries.')"
   ]
  },
  {
   "cell_type": "markdown",
   "metadata": {},
   "source": [
    "### Q12\n"
   ]
  },
  {
   "cell_type": "code",
   "execution_count": 9,
   "metadata": {},
   "outputs": [
    {
     "name": "stdout",
     "output_type": "stream",
     "text": [
      "Land Countries: Finland, Iceland\n",
      "IA Countries: Estonia\n",
      "Island Countries: \n",
      "Stan Countries: \n"
     ]
    }
   ],
   "source": [
    "def categorize_countries(country_list):\n",
    "    # Categories based on patterns\n",
    "    land_countries = [country for country in country_list if 'land' in country]\n",
    "    ia_countries = [country for country in country_list if 'ia' in country]\n",
    "    island_countries = [country for country in country_list if 'island' in country]\n",
    "    stan_countries = [country for country in country_list if 'stan' in country]\n",
    "\n",
    "    # Create a dictionary\n",
    "    categorized_countries = {\n",
    "        'Land Countries': land_countries,\n",
    "        'IA Countries': ia_countries,\n",
    "        'Island Countries': island_countries,\n",
    "        'Stan Countries': stan_countries\n",
    "    }\n",
    "\n",
    "    return categorized_countries\n",
    "\n",
    "# Test the function\n",
    "result = categorize_countries(countries)\n",
    "\n",
    "# Print the categorized lists\n",
    "for category, country_list in result.items():\n",
    "    print(f'{category}: {\", \".join(country_list)}') \n"
   ]
  },
  {
   "cell_type": "markdown",
   "metadata": {},
   "source": [
    "### Q13"
   ]
  },
  {
   "cell_type": "code",
   "execution_count": 10,
   "metadata": {},
   "outputs": [
    {
     "name": "stdout",
     "output_type": "stream",
     "text": [
      "{'E': 1, 'F': 1, 'S': 1, 'D': 1, 'N': 1, 'I': 1}\n"
     ]
    }
   ],
   "source": [
    "def starting_letter_count(country_list):\n",
    "    # Initialize an empty dictionary\n",
    "    letter_count = {}\n",
    "\n",
    "    # Iterate through each country and count the starting letters\n",
    "    for country in country_list:\n",
    "        # Get the first letter of the country\n",
    "        first_letter = country[0]\n",
    "\n",
    "        # Update the count in the dictionary\n",
    "        if first_letter in letter_count:\n",
    "            letter_count[first_letter] += 1\n",
    "        else:\n",
    "            letter_count[first_letter] = 1\n",
    "\n",
    "    return letter_count\n",
    "\n",
    "# Test the function\n",
    "result = starting_letter_count(countries)\n",
    "\n",
    "# Print the dictionary\n",
    "print(result)\n"
   ]
  },
  {
   "cell_type": "markdown",
   "metadata": {},
   "source": [
    "### Q14 \n"
   ]
  },
  {
   "cell_type": "code",
   "execution_count": 12,
   "metadata": {},
   "outputs": [
    {
     "name": "stdout",
     "output_type": "stream",
     "text": [
      "First Ten Countries: ['Afghanistan', 'Albania', 'Algeria', 'Andorra', 'Angola', 'Antigua and Barbuda', 'Argentina', 'Armenia', 'Australia', 'Austria']\n",
      "Last Ten Countries: ['United States', 'Uruguay', 'Uzbekistan', 'Vanuatu', 'Vatican City', 'Venezuela', 'Vietnam', 'Yemen', 'Zambia', 'Zimbabwe']\n"
     ]
    }
   ],
   "source": [
    "def get_first_ten_countries(country_list):\n",
    "    # Return the first ten countries\n",
    "    return country_list[:10]\n",
    "\n",
    "# Q15\n",
    "def get_last_ten_countries(country_list):\n",
    "    # Return the last ten countries\n",
    "    return country_list[-10:]\n",
    "\n",
    "# Test the functions with the provided countries list\n",
    "countries = [\n",
    "    'Afghanistan', 'Albania', 'Algeria', 'Andorra', 'Angola', 'Antigua and Barbuda',\n",
    "    'Argentina', 'Armenia', 'Australia', 'Austria', 'Azerbaijan', 'Bahamas', 'Bahrain',\n",
    "    'Bangladesh', 'Barbados', 'Belarus', 'Belgium', 'Belize', 'Benin', 'Bhutan', 'Bolivia',\n",
    "    'Bosnia and Herzegovina', 'Botswana', 'Brazil', 'Brunei', 'Bulgaria', 'Burkina Faso',\n",
    "    'Burundi', 'Cambodia', 'Cameroon', 'Canada', 'Cape Verde', 'Central African Republic',\n",
    "    'Chad', 'Chile', 'China', 'Colombi', 'Comoros', 'Congo (Brazzaville)', 'Congo',\n",
    "    'Costa Rica', \"Cote d'Ivoire\", 'Croatia', 'Cuba', 'Cyprus', 'Czech Republic', 'Denmark',\n",
    "    'Djibouti', 'Dominica', 'Dominican Republic', 'East Timor (Timor Timur)', 'Ecuador',\n",
    "    'Egypt', 'El Salvador', 'Equatorial Guinea', 'Eritrea', 'Estonia', 'Ethiopia', 'Fiji',\n",
    "    'Finland', 'France', 'Gabon', 'Gambia, The', 'Georgia', 'Germany', 'Ghana', 'Greece',\n",
    "    'Grenada', 'Guatemala', 'Guinea', 'Guinea-Bissau', 'Guyana', 'Haiti', 'Honduras',\n",
    "    'Hungary', 'Iceland', 'India', 'Indonesia', 'Iran', 'Iraq', 'Ireland', 'Israel', 'Italy',\n",
    "    'Jamaica', 'Japan', 'Jordan', 'Kazakhstan', 'Kenya', 'Kiribati', 'Korea, North', 'Korea, South',\n",
    "    'Kuwait', 'Kyrgyzstan', 'Laos', 'Latvia', 'Lebanon', 'Lesotho', 'Liberia', 'Libya',\n",
    "    'Liechtenstein', 'Lithuania', 'Luxembourg', 'Macedonia', 'Madagascar', 'Malawi',\n",
    "    'Malaysia', 'Maldives', 'Mali', 'Malta', 'Marshall Islands', 'Mauritania', 'Mauritius',\n",
    "    'Mexico', 'Micronesia', 'Moldova', 'Monaco', 'Mongolia', 'Morocco', 'Mozambique',\n",
    "    'Myanmar', 'Namibia', 'Nauru', 'Nepal', 'Netherlands', 'New Zealand', 'Nicaragua',\n",
    "    'Niger', 'Nigeria', 'Norway', 'Oman', 'Pakistan', 'Palau', 'Panama', 'Papua New Guinea',\n",
    "    'Paraguay', 'Peru', 'Philippines', 'Poland', 'Portugal', 'Qatar', 'Romania', 'Russia',\n",
    "    'Rwanda', 'Saint Kitts and Nevis', 'Saint Lucia', 'Saint Vincent', 'Samoa', 'San Marino',\n",
    "    'Sao Tome and Principe', 'Saudi Arabia', 'Senegal', 'Serbia and Montenegro', 'Seychelles',\n",
    "    'Sierra Leone', 'Singapore', 'Slovakia', 'Slovenia', 'Solomon Islands', 'Somalia',\n",
    "    'South Africa', 'Spain', 'Sri Lanka', 'Sudan', 'Suriname', 'Swaziland', 'Sweden',\n",
    "    'Switzerland', 'Syria', 'Taiwan', 'Tajikistan', 'Tanzania', 'Thailand', 'Togo', 'Tonga',\n",
    "    'Trinidad and Tobago', 'Tunisia', 'Turkey', 'Turkmenistan', 'Tuvalu', 'Uganda', 'Ukraine',\n",
    "    'United Arab Emirates', 'United Kingdom', 'United States', 'Uruguay', 'Uzbekistan',\n",
    "    'Vanuatu', 'Vatican City', 'Venezuela', 'Vietnam', 'Yemen', 'Zambia', 'Zimbabwe'\n",
    "]\n",
    "\n",
    "# Test the functions\n",
    "print(\"First Ten Countries:\", get_first_ten_countries(countries))\n",
    "print(\"Last Ten Countries:\", get_last_ten_countries(countries))"
   ]
  },
  {
   "cell_type": "markdown",
   "metadata": {},
   "source": []
  }
 ],
 "metadata": {
  "kernelspec": {
   "display_name": "datascience",
   "language": "python",
   "name": "python3"
  },
  "language_info": {
   "codemirror_mode": {
    "name": "ipython",
    "version": 3
   },
   "file_extension": ".py",
   "mimetype": "text/x-python",
   "name": "python",
   "nbconvert_exporter": "python",
   "pygments_lexer": "ipython3",
   "version": "3.7.12"
  }
 },
 "nbformat": 4,
 "nbformat_minor": 2
}
