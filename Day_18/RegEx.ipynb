{
 "cells": [
  {
   "cell_type": "markdown",
   "metadata": {},
   "source": [
    "### Exercises: Level 1"
   ]
  },
  {
   "cell_type": "markdown",
   "metadata": {},
   "source": [
    "#### Q1"
   ]
  },
  {
   "cell_type": "code",
   "execution_count": 1,
   "metadata": {},
   "outputs": [
    {
     "name": "stdout",
     "output_type": "stream",
     "text": [
      "[('love', 6), ('you', 5), ('can', 3), ('i', 2), ('teaching', 2), ('if', 2), ('do', 2), ('not', 2), ('what', 2), ('else', 2), ('python', 1), ('something', 1), ('which', 1), ('give', 1), ('all', 1), ('the', 1), ('capabilities', 1), ('to', 1), ('develop', 1), ('an', 1), ('application', 1)]\n"
     ]
    }
   ],
   "source": [
    "from collections import Counter\n",
    "import re\n",
    "\n",
    "paragraph = 'I love teaching. If you do not love teaching what else can you love. I love Python if you do not love something which can give you all the capabilities to develop an application what else can you love.'\n",
    "\n",
    "# Use regex to extract words from the paragraph and convert to lowercase\n",
    "words = re.findall(r'\\b\\w+\\b', paragraph.lower())\n",
    "\n",
    "# Count word frequencies using Counter\n",
    "word_counts = Counter(words)\n",
    "\n",
    "# Convert Counter to a list of tuples\n",
    "result = list(word_counts.items())\n",
    "\n",
    "# Sort the list in descending order based on frequency\n",
    "result.sort(key=lambda x: x[1], reverse=True)\n",
    "\n",
    "# Print the result\n",
    "print(result)\n"
   ]
  },
  {
   "cell_type": "markdown",
   "metadata": {},
   "source": [
    "#### Q2"
   ]
  },
  {
   "cell_type": "code",
   "execution_count": 2,
   "metadata": {},
   "outputs": [
    {
     "name": "stdout",
     "output_type": "stream",
     "text": [
      "Sorted Points: [-12, -4, -3, -1, 0, 4, 8]\n",
      "Distance between furthest particles: 20\n"
     ]
    }
   ],
   "source": [
    "import re\n",
    "\n",
    "text = \"The position of some particles on the horizontal x-axis are -12, -4, -3 and -1 in the negative direction, 0 at origin, 4 and 8 in the positive direction.\"\n",
    "\n",
    "# Use regex to extract numbers from the text\n",
    "numbers = re.findall(r'-?\\d+', text)\n",
    "\n",
    "# Convert the extracted numbers to integers\n",
    "points = [int(number) for number in numbers]\n",
    "\n",
    "# Sort the points in ascending order\n",
    "sorted_points = sorted(points)\n",
    "\n",
    "# Calculate the distance between the two furthest particles\n",
    "distance = sorted_points[-1] - sorted_points[0]\n",
    "\n",
    "# Print the result\n",
    "print(\"Sorted Points:\", sorted_points)\n",
    "print(\"Distance between furthest particles:\", distance)\n"
   ]
  },
  {
   "cell_type": "markdown",
   "metadata": {},
   "source": [
    "#### Exercises: Level 2\n"
   ]
  },
  {
   "cell_type": "code",
   "execution_count": 3,
   "metadata": {},
   "outputs": [
    {
     "name": "stdout",
     "output_type": "stream",
     "text": [
      "True\n",
      "True\n",
      "False\n",
      "False\n"
     ]
    }
   ],
   "source": [
    "import re\n",
    "\n",
    "def is_valid_variable(variable_name):\n",
    "    pattern = re.compile(r'^[a-zA-Z_]\\w*$')\n",
    "    return bool(pattern.match(variable_name))\n",
    "\n",
    "# Test cases\n",
    "print(is_valid_variable(\"valid_variable\"))  # True\n",
    "print(is_valid_variable(\"_underscore\"))      # True\n",
    "print(is_valid_variable(\"123invalid\"))       # False\n",
    "print(is_valid_variable(\"special-char\"))     # False\n"
   ]
  },
  {
   "cell_type": "markdown",
   "metadata": {},
   "source": [
    "### Exercises: Level 3\n"
   ]
  },
  {
   "cell_type": "code",
   "execution_count": 4,
   "metadata": {},
   "outputs": [
    {
     "name": "stdout",
     "output_type": "stream",
     "text": [
      "i am a teacher and i love teaching there is nothing as more rewarding as educating and empowering people i found teaching more interesting than any other jobs does this motivate you to be a teacher\n",
      "[('i', 3), ('a', 2), ('teacher', 2)]\n"
     ]
    }
   ],
   "source": [
    "import re\n",
    "from collections import Counter\n",
    "\n",
    "def clean_text(text):\n",
    "    cleaned_text = re.sub(r'[^a-zA-Z\\s]', '', text)\n",
    "    return cleaned_text.lower()\n",
    "\n",
    "def most_frequent_words(cleaned_text, n=3):\n",
    "    words = cleaned_text.split()\n",
    "    word_counts = Counter(words)\n",
    "    most_common = word_counts.most_common(n)\n",
    "    return most_common\n",
    "\n",
    "sentence = '''%I $am@% a %tea@cher%, &and& I lo%#ve %tea@ching%;. There $is nothing; &as& mo@re rewarding as educa@ting &and& @emp%o@wering peo@ple. ;I found tea@ching m%o@re interesting tha@n any other %jo@bs. %Do@es thi%s mo@tivate yo@u to be a tea@cher!?'''\n",
    "\n",
    "cleaned_text = clean_text(sentence)\n",
    "print(cleaned_text)\n",
    "\n",
    "most_frequent = most_frequent_words(cleaned_text)\n",
    "print(most_frequent)\n"
   ]
  }
 ],
 "metadata": {
  "kernelspec": {
   "display_name": "datascience",
   "language": "python",
   "name": "python3"
  },
  "language_info": {
   "codemirror_mode": {
    "name": "ipython",
    "version": 3
   },
   "file_extension": ".py",
   "mimetype": "text/x-python",
   "name": "python",
   "nbconvert_exporter": "python",
   "pygments_lexer": "ipython3",
   "version": "3.7.12"
  }
 },
 "nbformat": 4,
 "nbformat_minor": 2
}
