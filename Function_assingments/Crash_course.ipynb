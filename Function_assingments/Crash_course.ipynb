{
 "cells": [
  {
   "cell_type": "markdown",
   "metadata": {},
   "source": [
    "### Q1"
   ]
  },
  {
   "cell_type": "code",
   "execution_count": 2,
   "metadata": {},
   "outputs": [
    {
     "name": "stdout",
     "output_type": "stream",
     "text": [
      "In this chapter, I will learn how to write functions, which are named blocks of code that are designed to do one specific job. When I want to perform a particular task that I have defined in a function, I call the name of the function responsible for it.\n"
     ]
    }
   ],
   "source": [
    "def display_message():\n",
    "    \"\"\"Prints a sentence about what is being learned in this chapter.\"\"\"\n",
    "    message = \"In this chapter, I will learn how to write functions, which are named blocks of code that are designed to do one specific job. When I want to perform a particular task that I have defined in a function, I call the name of the function responsible for it.\"\n",
    "    print(message)\n",
    "\n",
    "# Call the function to display the modified message\n",
    "display_message()\n"
   ]
  },
  {
   "cell_type": "markdown",
   "metadata": {},
   "source": [
    "### Q2"
   ]
  },
  {
   "cell_type": "code",
   "execution_count": 1,
   "metadata": {},
   "outputs": [
    {
     "name": "stdout",
     "output_type": "stream",
     "text": [
      "One of my favorite books is Alice in Wonderland.\n"
     ]
    }
   ],
   "source": [
    "def favorite_book(title):\n",
    "    \"\"\"Prints a message about a favorite book.\"\"\"\n",
    "    message = f'One of my favorite books is {title}.'\n",
    "    print(message)\n",
    "\n",
    "# Call the function, providing a book title as an argument\n",
    "favorite_book(\"Alice in Wonderland\")"
   ]
  }
 ],
 "metadata": {
  "kernelspec": {
   "display_name": "datascience",
   "language": "python",
   "name": "python3"
  },
  "language_info": {
   "codemirror_mode": {
    "name": "ipython",
    "version": 3
   },
   "file_extension": ".py",
   "mimetype": "text/x-python",
   "name": "python",
   "nbconvert_exporter": "python",
   "pygments_lexer": "ipython3",
   "version": "3.7.12"
  }
 },
 "nbformat": 4,
 "nbformat_minor": 2
}
