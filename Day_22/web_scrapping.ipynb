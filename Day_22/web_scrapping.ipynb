{
 "cells": [
  {
   "cell_type": "markdown",
   "metadata": {},
   "source": [
    "### Q1"
   ]
  },
  {
   "cell_type": "code",
   "execution_count": null,
   "metadata": {},
   "outputs": [],
   "source": [
    "import requests\n",
    "import json\n",
    "from bs4 import BeautifulSoup\n",
    "\n",
    "url = 'http://www.bu.edu/president/boston-university-facts-stats/'\n",
    "response = requests.get(url)\n",
    "\n",
    "if response.status_code == 200:\n",
    "    soup = BeautifulSoup(response.content, 'html.parser')\n",
    "\n",
    "    # Extracting text from paragraphs in the body\n",
    "    paragraphs = [paragraph.get_text() for paragraph in soup.find_all('p')]\n",
    "\n",
    "    # Creating a dictionary to store the extracted data\n",
    "    data = {'paragraphs': paragraphs}\n",
    "\n",
    "    # Converting the data to JSON\n",
    "    json_data = json.dumps(data, indent=2)\n",
    "\n",
    "    # Saving the JSON data to a file\n",
    "    with open('scraped_data.json', 'w') as json_file:\n",
    "        json_file.write(json_data)\n",
    "\n",
    "    print('Data has been scraped and stored as \"scraped_data.json\".')\n",
    "else:\n",
    "    print(f'Failed to retrieve the webpage. Status code: {response.status_code}')\n"
   ]
  },
  {
   "cell_type": "markdown",
   "metadata": {},
   "source": [
    "### Q2"
   ]
  },
  {
   "cell_type": "code",
   "execution_count": null,
   "metadata": {},
   "outputs": [],
   "source": [
    "import requests\n",
    "import json\n",
    "from bs4 import BeautifulSoup\n",
    "\n",
    "table_url = 'https://archive.ics.uci.edu/ml/datasets.php'\n",
    "table_response = requests.get(table_url)\n",
    "\n",
    "if table_response.status_code == 200:\n",
    "    table_soup = BeautifulSoup(table_response.content, 'html.parser')\n",
    "\n",
    "    # Finding the table with cellpadding attribute equal to 3\n",
    "    target_table = table_soup.find('table', {'cellpadding': '3'})\n",
    "\n",
    "    if target_table:\n",
    "        # Extract the data from the table using list comprehensions\n",
    "        table_data = [\n",
    "            [cell.get_text(strip=True) for cell in row.find_all(['th', 'td'])]\n",
    "            for row in target_table.find_all('tr')\n",
    "        ]\n",
    "\n",
    "        # Converting the data to JSON\n",
    "        json_data = json.dumps(table_data, indent=2)\n",
    "\n",
    "        # Saving the JSON data to a file\n",
    "        with open('table_data.json', 'w') as json_file:\n",
    "            json_file.write(json_data)\n",
    "\n",
    "        print('Table data has been extracted and stored as \"table_data.json\".')\n",
    "    else:\n",
    "        print('No table found on the webpage.')\n",
    "else:\n",
    "    print(f'Failed to retrieve the webpage. Status code: {table_response.status_code}')\n"
   ]
  },
  {
   "cell_type": "markdown",
   "metadata": {},
   "source": [
    "### Q3 "
   ]
  },
  {
   "cell_type": "code",
   "execution_count": null,
   "metadata": {},
   "outputs": [],
   "source": [
    "import requests\n",
    "import json\n",
    "from bs4 import BeautifulSoup\n",
    "\n",
    "url = 'https://en.wikipedia.org/wiki/List_of_presidents_of_the_United_States'\n",
    "response = requests.get(url)\n",
    "\n",
    "if response.status_code == 200:\n",
    "    soup = BeautifulSoup(response.content, 'html.parser')\n",
    "\n",
    "    # Find the table containing the list of presidents\n",
    "    presidents_table = soup.find('table', {'class': 'wikitable'})\n",
    "\n",
    "    if presidents_table:\n",
    "        # Extract table data using list comprehensions\n",
    "        headers = [header.get_text(strip=True) for header in presidents_table.find_all('th')]\n",
    "        table_data = [\n",
    "            headers,\n",
    "            [cell.get_text(strip=True) for cell in row.find_all(['th', 'td'])]\n",
    "            for row in presidents_table.find_all('tr')[1:]\n",
    "        ]\n",
    "\n",
    "        # Converting the data to JSON\n",
    "        json_data = json.dumps(table_data, indent=2)\n",
    "\n",
    "        # Saving the JSON data to a file\n",
    "        with open('presidents_data.json', 'w') as json_file:\n",
    "            json_file.write(json_data)\n",
    "\n",
    "        print('Presidents table data has been extracted and stored as \"presidents_data.json\".')\n",
    "    else:\n",
    "        print('No presidents table found on the webpage.')\n",
    "else:\n",
    "    print(f'Failed to retrieve the webpage. Status code: {response.status_code}')\n"
   ]
  }
 ],
 "metadata": {
  "kernelspec": {
   "display_name": "datascience",
   "language": "python",
   "name": "python3"
  },
  "language_info": {
   "name": "python",
   "version": "3.7.12"
  }
 },
 "nbformat": 4,
 "nbformat_minor": 2
}
