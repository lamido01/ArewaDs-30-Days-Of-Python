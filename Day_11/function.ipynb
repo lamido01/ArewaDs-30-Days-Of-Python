{
 "cells": [
  {
   "cell_type": "markdown",
   "metadata": {},
   "source": [
    "## Exercises: Level 1\n"
   ]
  },
  {
   "cell_type": "markdown",
   "metadata": {},
   "source": [
    "### Q1"
   ]
  },
  {
   "cell_type": "code",
   "execution_count": null,
   "metadata": {},
   "outputs": [],
   "source": [
    "def Add_2_nums(n1,n2):\n",
    "    sum = n1 + n2\n",
    "    return(sum)\n",
    "print(Add_2_nums(2,3))"
   ]
  },
  {
   "cell_type": "markdown",
   "metadata": {},
   "source": [
    "### Q2"
   ]
  },
  {
   "cell_type": "code",
   "execution_count": null,
   "metadata": {},
   "outputs": [],
   "source": [
    "\n",
    "def area_of_circle (r):\n",
    "    PI = 3.14\n",
    "    area = PI * r ** 2\n",
    "    return area\n",
    "print(area_of_circle(12))"
   ]
  },
  {
   "cell_type": "markdown",
   "metadata": {},
   "source": [
    "### Q3"
   ]
  },
  {
   "cell_type": "code",
   "execution_count": null,
   "metadata": {},
   "outputs": [],
   "source": [
    "def sum_all_nums(*nums):\n",
    "    total = 0\n",
    "    for num in nums:\n",
    "        total += num      \n",
    "    return total\n",
    "print(sum_all_nums(4,8, 93, 0)) "
   ]
  },
  {
   "cell_type": "markdown",
   "metadata": {},
   "source": [
    "### Q4"
   ]
  },
  {
   "cell_type": "code",
   "execution_count": null,
   "metadata": {},
   "outputs": [],
   "source": [
    "def celsius_to_fahrenheit(c):\n",
    "    Fahrenheit = (c * 9/5) + 32\n",
    "    return Fahrenheit\n",
    "\n",
    "print(celsius_to_fahrenheit(4))\n"
   ]
  },
  {
   "cell_type": "markdown",
   "metadata": {},
   "source": [
    "### Q5"
   ]
  },
  {
   "cell_type": "code",
   "execution_count": null,
   "metadata": {},
   "outputs": [],
   "source": [
    "def check_season(month):\n",
    "    # Convert the month to lowercase for case-insensitive comparison\n",
    "    month = month.lower()\n",
    "\n",
    "    if month in {'december', 'january', 'february'}:\n",
    "        return 'Winter'\n",
    "    elif month in {'march', 'april', 'may'}:\n",
    "        return 'Spring'\n",
    "    elif month in {'june', 'july', 'august'}:\n",
    "        return 'Summer'\n",
    "    elif month in {'september', 'october', 'november'}:\n",
    "        return 'Autumn'\n",
    "    else:\n",
    "        return 'Invalid month'\n",
    "\n",
    "# Example\n",
    "month_input = input(\"Enter a month: \")\n",
    "result = check_season(month_input)\n",
    "\n",
    "print(\"The season for {month_input} is {result}\")\n",
    "\n"
   ]
  },
  {
   "cell_type": "markdown",
   "metadata": {},
   "source": [
    "### Q6"
   ]
  },
  {
   "cell_type": "code",
   "execution_count": null,
   "metadata": {},
   "outputs": [],
   "source": [
    "def calculate_slope(m,x,b):\n",
    "    y = m * x + b\n",
    "    return y\n",
    "# Example \n",
    "m,x,b = 3,5,8\n",
    "print(calculate_slope(m,x,b))"
   ]
  },
  {
   "cell_type": "markdown",
   "metadata": {},
   "source": [
    "### Q7"
   ]
  },
  {
   "cell_type": "code",
   "execution_count": null,
   "metadata": {},
   "outputs": [],
   "source": [
    "\n",
    "def solve_quadratic_eqn(a, b, c):\n",
    "    \"\"\"\n",
    "    Calculate the solutions of a quadratic equation ax^2 + bx + c = 0.\n",
    "    \"\"\"\n",
    "    # Calculate the discriminant\n",
    "    discriminant = cmath.sqrt(b**2 - 4*a*c)\n",
    "\n",
    "    # Calculate the two solutions\n",
    "    root1 = (-b + discriminant) / (2 * a)\n",
    "    root2 = (-b - discriminant) / (2 * a)\n",
    "\n",
    "    return root1, root2\n",
    "\n",
    "# Example usage:\n",
    "a = 1\n",
    "b = -3\n",
    "c = 2\n",
    "\n",
    "solutions = solve_quadratic_eqn(a, b, c)\n",
    "\n",
    "print(f\"The solutions are: {solutions}\")\n"
   ]
  },
  {
   "cell_type": "markdown",
   "metadata": {},
   "source": [
    "### Q8"
   ]
  },
  {
   "cell_type": "code",
   "execution_count": null,
   "metadata": {},
   "outputs": [],
   "source": [
    "def print_list(list):\n",
    "    for lst in list:\n",
    "        print(lst)\n",
    "        \n",
    "# example \n",
    "my_list = [1, 2, 3, 4, 5]\n",
    "print_list(my_list)\n",
    "    "
   ]
  },
  {
   "cell_type": "markdown",
   "metadata": {},
   "source": [
    "### Q9"
   ]
  },
  {
   "cell_type": "code",
   "execution_count": null,
   "metadata": {},
   "outputs": [],
   "source": []
  },
  {
   "cell_type": "markdown",
   "metadata": {},
   "source": [
    "#### Q10"
   ]
  },
  {
   "cell_type": "code",
   "execution_count": null,
   "metadata": {},
   "outputs": [],
   "source": [
    "def capitalize_list_items(lst):\n",
    "    \"\"\"\n",
    "    Capitalize each item in the given list and return a new list.\n",
    "    \"\"\"\n",
    "    capitalized_list = [item.capitalize() for item in lst]\n",
    "    return capitalized_list\n",
    "\n",
    "# Test\n",
    "my_list = [\"apple\", \"banana\", \"cherry\", \"date\"]\n",
    "result_list = capitalize_list_items(my_list)\n",
    "\n",
    "print(\"Original List:\", my_list)\n",
    "print(\"Capitalized List:\", result_list)\n"
   ]
  },
  {
   "cell_type": "markdown",
   "metadata": {},
   "source": [
    "### Q11"
   ]
  },
  {
   "cell_type": "code",
   "execution_count": null,
   "metadata": {},
   "outputs": [],
   "source": [
    "def add_item(input_list, new_item):\n",
    "    \"\"\"\n",
    "    Add the given item to the end of the list and return the new list.\n",
    "    \"\"\"\n",
    "    updated_list = input_list + [new_item]\n",
    "    return updated_list\n",
    "\n",
    "# Test\n",
    "original_list = [1, 2, 3, 4]\n",
    "new_item = 5\n",
    "\n",
    "result_list = add_item(original_list, new_item)\n",
    "\n",
    "print(\"Original List:\", original_list)\n",
    "print(\"List with Item Added:\", result_list)\n"
   ]
  },
  {
   "cell_type": "markdown",
   "metadata": {},
   "source": [
    "### Q12"
   ]
  },
  {
   "cell_type": "code",
   "execution_count": null,
   "metadata": {},
   "outputs": [],
   "source": [
    "def remove_item(input_list, item_to_remove):\n",
    "    \"\"\"\n",
    "    Remove all occurrences of the given item from the list and return the new list.\n",
    "    \"\"\"\n",
    "    while item_to_remove in input_list:\n",
    "        input_list.pop(item_to_remove)\n",
    "    return input_list\n",
    "\n",
    "# Test\n",
    "original_list = [1, 2, 4, 3, 5, 3]\n",
    "item_to_remove = 3\n",
    "\n",
    "result_list = remove_item(original_list, item_to_remove)\n",
    "\n",
    "print(\"Original List:\", original_list)\n",
    "print(\"List with Item Removed:\", result_list)\n"
   ]
  },
  {
   "cell_type": "markdown",
   "metadata": {},
   "source": [
    "### Q13"
   ]
  },
  {
   "cell_type": "code",
   "execution_count": null,
   "metadata": {},
   "outputs": [],
   "source": [
    "def sum_of_numbers(number):\n",
    "    \"\"\"\n",
    "    Calculate the sum of all numbers from 1 to the given number.\n",
    "    \"\"\"\n",
    "    \n",
    "    total_sum = 0\n",
    "\n",
    "    # Use a loop to iterate through numbers from 1 to the given number\n",
    "    for i in range(1, number + 1):\n",
    "        total_sum += i  # Add the current number to the sum\n",
    "\n",
    "    return total_sum  # Return the final sum\n",
    "\n",
    "# Test\n",
    "print(sum_of_numbers(5))   # Output: 15\n",
    "print(sum_of_numbers(10))  # Output: 55\n",
    "print(sum_of_numbers(100)) # Output: 5050\n"
   ]
  },
  {
   "cell_type": "markdown",
   "metadata": {},
   "source": [
    "### Q13"
   ]
  },
  {
   "cell_type": "code",
   "execution_count": null,
   "metadata": {},
   "outputs": [],
   "source": [
    "def sum_of_numbers(number):\n",
    "    \"\"\"\n",
    "    Calculate the sum of all odd numbers from 1 to the given number.\n",
    "    \"\"\"\n",
    "    \n",
    "    total_sum = 0\n",
    "\n",
    "    # Use a loop to iterate through numbers from 1 to the given number\n",
    "    for i in range(1, number + 1):\n",
    "        if i % 2 != 0:\n",
    "\n",
    "         total_sum += i  # Add the current number to the sum\n",
    "\n",
    "    return total_sum  # Return the final sum\n",
    "\n",
    "# Test\n",
    "print(sum_of_numbers(6))   # Output: 9\n",
    "print(sum_of_numbers(10))  # Output: 25\n",
    "print(sum_of_numbers(7)) # Output: 16\n"
   ]
  },
  {
   "cell_type": "markdown",
   "metadata": {},
   "source": [
    "### Q14"
   ]
  },
  {
   "cell_type": "code",
   "execution_count": null,
   "metadata": {},
   "outputs": [],
   "source": [
    "def sum_of_numbers(number):\n",
    "    \"\"\"\n",
    "    Calculate the sum of all even numbers from 1 to the given number.\n",
    "    \"\"\"\n",
    "    \n",
    "    total_sum = 0\n",
    "\n",
    "    # Use a loop to iterate through numbers from 1 to the given number\n",
    "    for i in range(1, number + 1):\n",
    "        if i % 2 == 0:\n",
    "\n",
    "         total_sum += i  # Add the current number to the sum\n",
    "\n",
    "    return total_sum  # Return the final sum\n",
    "\n",
    "# Test\n",
    "print(sum_of_numbers(6))   # Output: 12\n",
    "print(sum_of_numbers(10))  # Output: 30\n",
    "print(sum_of_numbers(7)) # Output: 12\n"
   ]
  },
  {
   "cell_type": "markdown",
   "metadata": {},
   "source": [
    "## Exercises: Level 2"
   ]
  },
  {
   "cell_type": "code",
   "execution_count": null,
   "metadata": {},
   "outputs": [],
   "source": [
    "def evens_and_odds(number):\n",
    "    \"\"\"\n",
    "    Count the number of even and odd numbers in the range from 1 to the given positive integer.\n",
    "    \"\"\"\n",
    "    # Initialize variables to store counts\n",
    "    count_evens = 0\n",
    "    count_odds = 0\n",
    "\n",
    "    # Iterate through each number in the range from 1 to the given number\n",
    "    for i in range(1, number + 1):\n",
    "        if i % 2 == 0:\n",
    "            count_evens += 1\n",
    "        else:\n",
    "            count_odds += 1\n",
    "\n",
    "    # Print the results\n",
    "    print(f\"The number of odds are {count_odds}.\")\n",
    "    print(f\"The number of evens are {count_evens}.\")\n",
    "\n",
    "# Test\n",
    "evens_and_odds(10)\n"
   ]
  },
  {
   "cell_type": "markdown",
   "metadata": {},
   "source": [
    "### Q2"
   ]
  },
  {
   "cell_type": "code",
   "execution_count": null,
   "metadata": {},
   "outputs": [],
   "source": [
    "def factorial(number):\n",
    "    \"\"\"\n",
    "    Calculate the factorial of the given whole number.\n",
    "    \"\"\"\n",
    "    # Initialize the result to 1\n",
    "    result = 1\n",
    "\n",
    "    # Multiply numbers from 1 to the given number\n",
    "    for i in range(1, number + 1):\n",
    "        result *= i\n",
    "\n",
    "    return result\n",
    "\n",
    "# Test\n",
    "result = factorial(3)\n",
    "print(f\"The factorial of 5 is: {result}\")\n"
   ]
  },
  {
   "cell_type": "markdown",
   "metadata": {},
   "source": [
    "### Q3"
   ]
  },
  {
   "cell_type": "code",
   "execution_count": null,
   "metadata": {},
   "outputs": [],
   "source": [
    "from statistics import mean, median, mode, variance, stdev\n",
    "\n",
    "def calculate_mean(data):\n",
    "    \"\"\"\n",
    "    Calculate the mean (average) of the given list.\n",
    "    \"\"\"\n",
    "    return mean(data)\n",
    "\n",
    "def calculate_median(data):\n",
    "    \"\"\"\n",
    "    Calculate the median of the given list.\n",
    "    \"\"\"\n",
    "    return median(data)\n",
    "\n",
    "def calculate_mode(data):\n",
    "    \"\"\"\n",
    "    Calculate the mode of the given list.\n",
    "    \"\"\"\n",
    "    return mode(data)\n",
    "\n",
    "def calculate_range(data):\n",
    "    \"\"\"\n",
    "    Calculate the range of the given list.\n",
    "    \"\"\"\n",
    "    return max(data) - min(data)\n",
    "\n",
    "def calculate_variance(data):\n",
    "    \"\"\"\n",
    "    Calculate the variance of the given list.\n",
    "    \"\"\"\n",
    "    return variance(data)\n",
    "\n",
    "def calculate_std(data):\n",
    "    \"\"\"\n",
    "    Calculate the standard deviation of the given list.\n",
    "    \"\"\"\n",
    "    return stdev(data)\n",
    "\n",
    "# Test\n",
    "data_list = [1, 2, 3, 4, 5, 5, 6, 7, 8, 9]\n",
    "\n",
    "print(f\"Mean: {calculate_mean(data_list)}\")\n",
    "print(f\"Median: {calculate_median(data_list)}\")\n",
    "print(f\"Mode: {calculate_mode(data_list)}\")\n",
    "print(f\"Range: {calculate_range(data_list)}\")\n",
    "print(f\"Variance: {calculate_variance(data_list)}\")\n",
    "print(f\"Standard Deviation: {calculate_std(data_list)}\")\n"
   ]
  },
  {
   "cell_type": "markdown",
   "metadata": {},
   "source": [
    "## Exercises: Level 3\n"
   ]
  },
  {
   "cell_type": "code",
   "execution_count": null,
   "metadata": {},
   "outputs": [],
   "source": [
    "def is_prime(number):\n",
    "    if number < 2:\n",
    "        return False\n",
    "    for i in range(2, int(number**0.5) + 1):\n",
    "        if number % i == 0:\n",
    "            return False\n",
    "    return True\n",
    "\n",
    "def test_is_prime():\n",
    "    print(\"Testing is_prime function:\")\n",
    "    print(is_prime(11))  # Expected: True\n",
    "    print(is_prime(16))  # Expected: False\n",
    "    print(is_prime(2))   # Expected: True\n",
    "    print(is_prime(1))   # Expected: False\n",
    "    print(is_prime(0))   # Expected: False\n",
    "\n",
    "# Run the test\n",
    "test_is_prime()\n"
   ]
  },
  {
   "cell_type": "code",
   "execution_count": null,
   "metadata": {},
   "outputs": [],
   "source": [
    "def are_all_unique(lst):\n",
    "    seen = set()\n",
    "    for item in lst:\n",
    "        if item in seen:\n",
    "            return False\n",
    "        seen.add(item)\n",
    "    return True\n",
    "\n",
    "def test_are_all_unique():\n",
    "    print(\"Testing are_all_unique function:\")\n",
    "    print(are_all_unique([1, 2, 3, 4, 5]))      # Expected: True\n",
    "    print(are_all_unique([1, 2, 3, 4, 1]))      # Expected: False\n",
    "    print(are_all_unique([]))                    # Expected: True\n",
    "    print(are_all_unique([\"apple\", \"orange\", \"banana\"]))  # Expected: True\n",
    "\n",
    "# Run the test\n",
    "test_are_all_unique()\n"
   ]
  },
  {
   "cell_type": "code",
   "execution_count": null,
   "metadata": {},
   "outputs": [],
   "source": [
    "def same_data_type(lst):\n",
    "    if not lst:\n",
    "        return True\n",
    "    data_type = type(lst[0])\n",
    "    return all(type(item) == data_type for item in lst)\n",
    "\n",
    "def test_same_data_type():\n",
    "    print(\"Testing same_data_type function:\")\n",
    "    print(same_data_type([1, 2, 3, 4, 5]))         # Expected: True\n",
    "    print(same_data_type([1, 2, 'three', 4, 5]))    # Expected: False\n",
    "    print(same_data_type([]))                      # Expected: True\n",
    "    print(same_data_type([\"apple\", \"orange\", \"banana\"]))  # Expected: True\n",
    "\n",
    "# Run the test\n",
    "test_same_data_type()\n"
   ]
  },
  {
   "cell_type": "code",
   "execution_count": null,
   "metadata": {},
   "outputs": [],
   "source": [
    "def same_data_type(lst):\n",
    "    if not lst:\n",
    "        return True\n",
    "    data_type = type(lst[0])\n",
    "    return all(type(item) == data_type for item in lst)\n",
    "\n",
    "def test_same_data_type():\n",
    "    print(\"Testing same_data_type function:\")\n",
    "    print(same_data_type([1, 2, 3, 4, 5]))         # Expected: True\n",
    "    print(same_data_type([1, 2, 'three', 4, 5]))    # Expected: False\n",
    "    print(same_data_type([]))                      # Expected: True\n",
    "    print(same_data_type([\"apple\", \"orange\", \"banana\"]))  # Expected: True\n",
    "\n",
    "# Run the test\n",
    "test_same_data_type()\n"
   ]
  },
  {
   "cell_type": "code",
   "execution_count": null,
   "metadata": {},
   "outputs": [],
   "source": [
    "def is_valid_variable(variable):\n",
    "    if not isinstance(variable, str) or not variable:\n",
    "        return False\n",
    "    return variable[0].isalpha() and all(char.isalnum() or char == '_' for char in variable[1:])\n",
    "\n",
    "def test_is_valid_variable():\n",
    "    print(\"Testing is_valid_variable function:\")\n",
    "    print(is_valid_variable(\"valid_variable\"))         # Expected: True\n",
    "    print(is_valid_variable(\"2_invalid_variable\"))      # Expected: False\n",
    "    print(is_valid_variable(\"_underscore_variable\"))   # Expected: True\n",
    "    print(is_valid_variable(\"\"))                       # Expected: False\n",
    "\n",
    "# Run the test\n",
    "test_is_valid_variable()\n"
   ]
  }
 ],
 "metadata": {
  "kernelspec": {
   "display_name": "datascience",
   "language": "python",
   "name": "python3"
  },
  "language_info": {
   "codemirror_mode": {
    "name": "ipython",
    "version": 3
   },
   "file_extension": ".py",
   "mimetype": "text/x-python",
   "name": "python",
   "nbconvert_exporter": "python",
   "pygments_lexer": "ipython3",
   "version": "3.7.12"
  }
 },
 "nbformat": 4,
 "nbformat_minor": 2
}
